{
 "cells": [
  {
   "cell_type": "markdown",
   "id": "830617ec",
   "metadata": {},
   "source": [
    "# TASK 5\n",
    "### Dew Point Temperature calculator\n",
    "###### A simple program to calculate the saturation vapor pressure, the vapor pressure and the due point temperature.\n",
    "###### It first calculates for the saturation vapor pressure and differentiates its results.\n",
    "###### It then uses the results of the saturation vapor pressure in addition with the relative humidity to find the vapor pressure.\n",
    "###### Then it finally calculates for the due point temperature with the answer of the vapor pressure. \n",
    "###### NB: For it to work, you have to provide a value for temperature and relative humidity"
   ]
  },
  {
   "cell_type": "markdown",
   "id": "61f4efc4",
   "metadata": {},
   "source": [
    "###### Constants Given\n",
    "t = 273.3K\n",
    "\n",
    "e_o = 6.11hPa (SVP at 0dC)             dC = degree celcius\n",
    "\n",
    "A = 17.27\n",
    "\n",
    "L = Latent Heat of Vaporisation = 2.45x10^6 J/Kg\n",
    "\n",
    "Rv = gas constant for water = 461 J/KgK\n",
    "\n",
    "RH = Relative Humidty in percentage "
   ]
  },
  {
   "cell_type": "code",
   "execution_count": 1,
   "id": "f2c13217",
   "metadata": {},
   "outputs": [],
   "source": [
    "import numpy as np\n",
    "def DPT(T,RH):                   # DPT is the Dew Point Temperature\n",
    "    t =273.3                     # t is constant temperature given  \n",
    "    e_o = 6.11                   # e_o is initial vapor pressure given\n",
    "    A = 17.27                   \n",
    "    L = 2.45*(10**6)             # L is latent heat of vaporisation\n",
    "    Rv = 461                     \n",
    "                                 \n",
    "    a=(A*T)/(T+ t)               # a is the numerator of the equation in es\n",
    "    es=round(e_o**a,2)           # es is the saturation vapor pressure\n",
    "\n",
    "    b=L*es                       # b represents the numerator for the differential of es\n",
    "    c=Rv*(T+273.16)**2           # c represents the denomiator for the differential of es\n",
    "    d=round((b/c),2)             # d is assigned to the differential of es\n",
    "    \n",
    "    e=round(es*(RH/100),2)       # e is the vapor pressure\n",
    "    \n",
    "    x=np.log(e/e_o)*t            # x represents the numerator of the dew point temperature equation\n",
    "    y=A - (np.log(e/e_o))        # y represents the denominator of the dew point temperature equation\n",
    "    Td=round(x/y,2)              # Td is assigned to be the dew point temperature calculated\n",
    "    return(es,d,e,Td)\n",
    "                                 # The results of es,d,e and Td are given when a t and RH values are entered"
   ]
  },
  {
   "cell_type": "code",
   "execution_count": 3,
   "id": "85d8b2c8",
   "metadata": {},
   "outputs": [
    {
     "data": {
      "text/plain": [
       "(41.56, 2.3, 22.86, 22.61)"
      ]
     },
     "execution_count": 3,
     "metadata": {},
     "output_type": "execute_result"
    }
   ],
   "source": [
    "DPT(37,55)"
   ]
  },
  {
   "cell_type": "code",
   "execution_count": null,
   "id": "d2e9b2ea",
   "metadata": {},
   "outputs": [],
   "source": []
  }
 ],
 "metadata": {
  "kernelspec": {
   "display_name": "Python 3 (ipykernel)",
   "language": "python",
   "name": "python3"
  },
  "language_info": {
   "codemirror_mode": {
    "name": "ipython",
    "version": 3
   },
   "file_extension": ".py",
   "mimetype": "text/x-python",
   "name": "python",
   "nbconvert_exporter": "python",
   "pygments_lexer": "ipython3",
   "version": "3.9.12"
  }
 },
 "nbformat": 4,
 "nbformat_minor": 5
}
